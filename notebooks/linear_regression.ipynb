{
 "metadata": {
  "language_info": {
   "codemirror_mode": {
    "name": "ipython",
    "version": 3
   },
   "file_extension": ".py",
   "mimetype": "text/x-python",
   "name": "python",
   "nbconvert_exporter": "python",
   "pygments_lexer": "ipython3",
   "version": "3.9.0"
  },
  "orig_nbformat": 2,
  "kernelspec": {
   "name": "python3",
   "display_name": "Python 3",
   "language": "python"
  }
 },
 "nbformat": 4,
 "nbformat_minor": 2,
 "cells": [
  {
   "source": [
    "# Partie prédictive:\n",
    "## Vous mettrez en place un modèle de regression linéaire qui permet d'estimer le temps de trajet en fonction de sa distance."
   ],
   "cell_type": "markdown",
   "metadata": {}
  },
  {
   "cell_type": "code",
   "execution_count": 1,
   "metadata": {},
   "outputs": [],
   "source": [
    "import pandas as pd\n",
    "import sys\n",
    "\n",
    "from sklearn.linear_model import LinearRegression, Ridge, Lasso\n",
    "from sklearn.model_selection import train_test_split\n",
    "from sklearn.metrics import mean_squared_error, r2_score\n",
    "\n",
    "sys.path.append(\"../NYC-Taxi\")\n",
    "\n",
    "df = pd.read_csv(\"../data/02_intermediate/train.csv\")\n",
    "#df = pd.read_csv(\"../data/02_intermediate/dirty_train.csv\")"
   ]
  },
  {
   "source": [
    "#### Définitions de définitions pour récupérer les indicateurs et formater leur affichage\n",
    "(Les fonctions sont définies ici et non dans un fichier à part à cause d'un soucis d'import de modules)"
   ],
   "cell_type": "markdown",
   "metadata": {}
  },
  {
   "cell_type": "code",
   "execution_count": 2,
   "metadata": {},
   "outputs": [],
   "source": [
    "def get_model_metrics(model, X, y):\n",
    "    \"\"\"\n",
    "        Separate data in train and test sets,\n",
    "        fit the model,\n",
    "        make predictions on train and test datas,\n",
    "        print metrics\n",
    "\n",
    "        params:\n",
    "            model(function): model used with params (ie: Lasso(alpha=x)) \n",
    "            X(DataFrame): DataFrame subset with selected features,\n",
    "            y(Series): variable to predict\n",
    "\n",
    "        returns: \n",
    "                print β1, β0, R2 and RMSE\n",
    "    \"\"\"\n",
    "    # Split des datas\n",
    "    X_train, X_test, y_train, y_test = train_test_split(\n",
    "        X, y, train_size=0.8, random_state=1\n",
    "    )\n",
    "    model.fit(X_train, y_train)\n",
    "    # Affichage des β1 pour chaque variable\n",
    "    for idx, name in enumerate(X_train.columns):\n",
    "        print(f\"β1 de {name} : {round(model.coef_[idx], 3)}\")\n",
    "\n",
    "    print(f\"β0 (intercept_) : {round(model.intercept_, 3)}\\n\")\n",
    "\n",
    "    y_train_pred = model.predict(X_train)\n",
    "    y_test_pred = model.predict(X_test)\n",
    "\n",
    "    y_list = [y_train, y_train_pred, y_test, y_test_pred]\n",
    "    get_r2_rmse(y_list)\n",
    "\n",
    "\n",
    "def get_r2_rmse(y_list):\n",
    "    \"\"\"\n",
    "        calculate R2 and RMSE for each sets (train and test)\n",
    "        and format output\n",
    "\n",
    "        param:\n",
    "            y_list = [\n",
    "                y_train, \n",
    "                y_train_pred, \n",
    "                y_test, \n",
    "                y_test_pred\n",
    "            ]\n",
    "    \"\"\"\n",
    "\n",
    "    sets = [\"Training\", \"Testing \"]\n",
    "    i = 0\n",
    "    for set in sets:\n",
    "        r2 = round(r2_score(y_list[i], y_list[i+1]), 3)\n",
    "        rmse = round(mean_squared_error(y_list[i], y_list[i+1], squared=False), 3)\n",
    "        print(\n",
    "            \"{} set : R2 = {}, RMSE = {}\".format(set, r2, rmse)\n",
    "        )\n",
    "        i += 2"
   ]
  },
  {
   "source": [
    "### Régression linéaire à un paramètre"
   ],
   "cell_type": "markdown",
   "metadata": {}
  },
  {
   "cell_type": "code",
   "execution_count": 3,
   "metadata": {},
   "outputs": [],
   "source": [
    "y = df.trip_duration\n",
    "df_features = [\"distance_km\"]\n",
    "X = df[df_features]"
   ]
  },
  {
   "cell_type": "code",
   "execution_count": 4,
   "metadata": {},
   "outputs": [
    {
     "output_type": "stream",
     "name": "stdout",
     "text": [
      "β1 de distance_km : 139.341\nβ0 (intercept_) : 367.681\n\nTraining set : R2 = 0.493, RMSE = 445.235\nTesting  set : R2 = 0.496, RMSE = 439.209\n"
     ]
    }
   ],
   "source": [
    "get_model_metrics(LinearRegression(), X, y)\n"
   ]
  },
  {
   "source": [
    "## Modèle multi linéaire\n",
    "### Modèle 1\n",
    "#### Hypothèse à vérifier : absence de colinéarité"
   ],
   "cell_type": "markdown",
   "metadata": {}
  },
  {
   "cell_type": "code",
   "execution_count": 5,
   "metadata": {},
   "outputs": [
    {
     "output_type": "execute_result",
     "data": {
      "text/plain": [
       "                  trip_duration  distance_km  pickup_dayofweek  pickup_part4h\n",
       "trip_duration          1.000000     0.702478         -0.032675       0.029935\n",
       "distance_km            0.702478     1.000000          0.013581      -0.024856\n",
       "pickup_dayofweek      -0.032675     0.013581          1.000000      -0.085316\n",
       "pickup_part4h          0.029935    -0.024856         -0.085316       1.000000"
      ],
      "text/html": "<div>\n<style scoped>\n    .dataframe tbody tr th:only-of-type {\n        vertical-align: middle;\n    }\n\n    .dataframe tbody tr th {\n        vertical-align: top;\n    }\n\n    .dataframe thead th {\n        text-align: right;\n    }\n</style>\n<table border=\"1\" class=\"dataframe\">\n  <thead>\n    <tr style=\"text-align: right;\">\n      <th></th>\n      <th>trip_duration</th>\n      <th>distance_km</th>\n      <th>pickup_dayofweek</th>\n      <th>pickup_part4h</th>\n    </tr>\n  </thead>\n  <tbody>\n    <tr>\n      <th>trip_duration</th>\n      <td>1.000000</td>\n      <td>0.702478</td>\n      <td>-0.032675</td>\n      <td>0.029935</td>\n    </tr>\n    <tr>\n      <th>distance_km</th>\n      <td>0.702478</td>\n      <td>1.000000</td>\n      <td>0.013581</td>\n      <td>-0.024856</td>\n    </tr>\n    <tr>\n      <th>pickup_dayofweek</th>\n      <td>-0.032675</td>\n      <td>0.013581</td>\n      <td>1.000000</td>\n      <td>-0.085316</td>\n    </tr>\n    <tr>\n      <th>pickup_part4h</th>\n      <td>0.029935</td>\n      <td>-0.024856</td>\n      <td>-0.085316</td>\n      <td>1.000000</td>\n    </tr>\n  </tbody>\n</table>\n</div>"
     },
     "metadata": {},
     "execution_count": 5
    }
   ],
   "source": [
    "df[[\n",
    "    \"trip_duration\",\n",
    "    \"distance_km\",\n",
    "    \"pickup_dayofweek\",\n",
    "    \"pickup_part4h\"\n",
    "]].corr()\n"
   ]
  },
  {
   "source": [
    "La matrix de corrélation ci-dessus nous apprend que :\n",
    "- Les coefficients de corrélation sont inférieur à 0.8.\n",
    "- La distance est la variable la plus corrélé, tandis que que les deux autres variables ont un impacts assez faible\n",
    "- **Hypothèse vérifiée** : absence de colinéarité entre les variables explicatives"
   ],
   "cell_type": "markdown",
   "metadata": {}
  },
  {
   "source": [
    "### Choix des features :\n",
    "- *distance* : indicateur pincipale pour calculer la durée du trajet\n",
    "- *pickup_dayofweek* : on suppose que le jour à une influence sur l'état du trafic et donc sur la durée du trajet\n",
    "- *pickup_part4h* :on suppose que le moment de la journée à une influence sur l'état du trafic et donc sur la durée du trajet"
   ],
   "cell_type": "markdown",
   "metadata": {}
  },
  {
   "cell_type": "code",
   "execution_count": 6,
   "metadata": {},
   "outputs": [],
   "source": [
    "y = df.trip_duration\n",
    "df_features = [\n",
    "    \"distance_km\",\n",
    "    \"pickup_dayofweek\",\n",
    "    \"pickup_part4h\"\n",
    "]\n",
    "X = df[df_features]"
   ]
  },
  {
   "source": [
    "## Évaluation du modèle\n",
    "### LinearRegression()"
   ],
   "cell_type": "markdown",
   "metadata": {}
  },
  {
   "cell_type": "code",
   "execution_count": 7,
   "metadata": {},
   "outputs": [
    {
     "output_type": "stream",
     "name": "stdout",
     "text": [
      "β1 de distance_km : 139.664\nβ1 de pickup_dayofweek : -12.314\nβ1 de pickup_part4h : 17.583\nβ0 (intercept_) : 351.128\n\nTraining set : R2 = 0.497, RMSE = 443.596\nTesting  set : R2 = 0.499, RMSE = 437.603\n"
     ]
    }
   ],
   "source": [
    "get_model_metrics(LinearRegression(), X, y)\n"
   ]
  },
  {
   "source": [
    "#### Liste des alpha à utiliser pour les Lasso() et les Ridge()"
   ],
   "cell_type": "markdown",
   "metadata": {}
  },
  {
   "cell_type": "code",
   "execution_count": 8,
   "metadata": {},
   "outputs": [],
   "source": [
    "alphas = [0.1*10**(i) for i in range(4)]"
   ]
  },
  {
   "source": [
    "### Lasso() avec différents alpha"
   ],
   "cell_type": "markdown",
   "metadata": {}
  },
  {
   "cell_type": "code",
   "execution_count": 9,
   "metadata": {},
   "outputs": [
    {
     "output_type": "stream",
     "name": "stdout",
     "text": [
      "Avec Alpha = 0.1\n",
      "β1 de distance_km : 139.653\n",
      "β1 de pickup_dayofweek : -12.29\n",
      "β1 de pickup_part4h : 17.544\n",
      "β0 (intercept_) : 351.204\n",
      "\n",
      "Training set : R2 = 0.497, RMSE = 443.597\n",
      "Testing  set : R2 = 0.499, RMSE = 437.602\n",
      "\n",
      "\n",
      "Avec Alpha = 1.0\n",
      "β1 de distance_km : 139.557\n",
      "β1 de pickup_dayofweek : -12.075\n",
      "β1 de pickup_part4h : 17.199\n",
      "β0 (intercept_) : 351.896\n",
      "\n",
      "Training set : R2 = 0.497, RMSE = 443.597\n",
      "Testing  set : R2 = 0.499, RMSE = 437.601\n",
      "\n",
      "\n",
      "Avec Alpha = 10.0\n",
      "β1 de distance_km : 138.589\n",
      "β1 de pickup_dayofweek : -9.93\n",
      "β1 de pickup_part4h : 13.745\n",
      "β0 (intercept_) : 358.816\n",
      "\n",
      "Training set : R2 = 0.496, RMSE = 443.679\n",
      "Testing  set : R2 = 0.499, RMSE = 437.658\n",
      "\n",
      "\n",
      "Avec Alpha = 100.0\n",
      "β1 de distance_km : 129.265\n",
      "β1 de pickup_dayofweek : -0.0\n",
      "β1 de pickup_part4h : 0.0\n",
      "β0 (intercept_) : 399.222\n",
      "\n",
      "Training set : R2 = 0.49, RMSE = 446.365\n",
      "Testing  set : R2 = 0.493, RMSE = 440.188\n",
      "\n",
      "\n"
     ]
    }
   ],
   "source": [
    "for a in alphas:\n",
    "    print(f\"Avec Alpha = {a}\")\n",
    "    get_model_metrics(Lasso(alpha=a), X, y)\n",
    "    print(\"\\n\")\n"
   ]
  },
  {
   "source": [
    "### Ridge() avec différents alpha"
   ],
   "cell_type": "markdown",
   "metadata": {}
  },
  {
   "cell_type": "code",
   "execution_count": 10,
   "metadata": {},
   "outputs": [
    {
     "output_type": "stream",
     "name": "stdout",
     "text": [
      "Avec Alpha = 0.1\n",
      "β1 de distance_km : 139.664\n",
      "β1 de pickup_dayofweek : -12.314\n",
      "β1 de pickup_part4h : 17.583\n",
      "β0 (intercept_) : 351.128\n",
      "\n",
      "Training set : R2 = 0.497, RMSE = 443.596\n",
      "Testing  set : R2 = 0.499, RMSE = 437.603\n",
      "\n",
      "\n",
      "Avec Alpha = 1.0\n",
      "β1 de distance_km : 139.664\n",
      "β1 de pickup_dayofweek : -12.314\n",
      "β1 de pickup_part4h : 17.583\n",
      "β0 (intercept_) : 351.128\n",
      "\n",
      "Training set : R2 = 0.497, RMSE = 443.596\n",
      "Testing  set : R2 = 0.499, RMSE = 437.603\n",
      "\n",
      "\n",
      "Avec Alpha = 10.0\n",
      "β1 de distance_km : 139.664\n",
      "β1 de pickup_dayofweek : -12.314\n",
      "β1 de pickup_part4h : 17.583\n",
      "β0 (intercept_) : 351.128\n",
      "\n",
      "Training set : R2 = 0.497, RMSE = 443.596\n",
      "Testing  set : R2 = 0.499, RMSE = 437.603\n",
      "\n",
      "\n",
      "Avec Alpha = 100.0\n",
      "β1 de distance_km : 139.663\n",
      "β1 de pickup_dayofweek : -12.314\n",
      "β1 de pickup_part4h : 17.582\n",
      "β0 (intercept_) : 351.133\n",
      "\n",
      "Training set : R2 = 0.497, RMSE = 443.596\n",
      "Testing  set : R2 = 0.499, RMSE = 437.603\n",
      "\n",
      "\n"
     ]
    }
   ],
   "source": [
    "for a in alphas:\n",
    "    print(f\"Avec Alpha = {a}\")\n",
    "    get_model_metrics(Ridge(alpha=a), X, y)\n",
    "    print(\"\\n\")"
   ]
  },
  {
   "source": [
    " # Modèle 2"
   ],
   "cell_type": "markdown",
   "metadata": {}
  },
  {
   "cell_type": "code",
   "execution_count": 11,
   "metadata": {},
   "outputs": [],
   "source": [
    "y = df.trip_duration\n",
    "df_features = [\n",
    "    \"distance_km\",\n",
    "    \"pickup_dayofweek\"\n",
    "]\n",
    "X = df[df_features]"
   ]
  },
  {
   "source": [
    "## Évaluation du modèle\n",
    "### LinearRegression()"
   ],
   "cell_type": "markdown",
   "metadata": {}
  },
  {
   "cell_type": "code",
   "execution_count": 12,
   "metadata": {},
   "outputs": [
    {
     "output_type": "stream",
     "name": "stdout",
     "text": [
      "β1 de distance_km : 139.456\nβ1 de pickup_dayofweek : -13.514\nβ0 (intercept_) : 408.545\n\nTraining set : R2 = 0.495, RMSE = 444.452\nTesting  set : R2 = 0.497, RMSE = 438.43\n"
     ]
    }
   ],
   "source": [
    "get_model_metrics(LinearRegression(), X, y)"
   ]
  },
  {
   "source": [
    "### Lasso() avec différents alpha"
   ],
   "cell_type": "markdown",
   "metadata": {}
  },
  {
   "cell_type": "code",
   "execution_count": 13,
   "metadata": {},
   "outputs": [
    {
     "output_type": "stream",
     "name": "stdout",
     "text": [
      "Avec Alpha = 0.1\n",
      "β1 de distance_km : 139.445\n",
      "β1 de pickup_dayofweek : -13.487\n",
      "β0 (intercept_) : 408.496\n",
      "\n",
      "Training set : R2 = 0.495, RMSE = 444.452\n",
      "Testing  set : R2 = 0.497, RMSE = 438.429\n",
      "\n",
      "\n",
      "Avec Alpha = 1.0\n",
      "β1 de distance_km : 139.353\n",
      "β1 de pickup_dayofweek : -13.249\n",
      "β0 (intercept_) : 408.06\n",
      "\n",
      "Training set : R2 = 0.495, RMSE = 444.453\n",
      "Testing  set : R2 = 0.498, RMSE = 438.428\n",
      "\n",
      "\n",
      "Avec Alpha = 10.0\n",
      "β1 de distance_km : 138.426\n",
      "β1 de pickup_dayofweek : -10.869\n",
      "β0 (intercept_) : 403.7\n",
      "\n",
      "Training set : R2 = 0.495, RMSE = 444.494\n",
      "Testing  set : R2 = 0.497, RMSE = 438.453\n",
      "\n",
      "\n",
      "Avec Alpha = 100.0\n",
      "β1 de distance_km : 129.265\n",
      "β1 de pickup_dayofweek : -0.0\n",
      "β0 (intercept_) : 399.222\n",
      "\n",
      "Training set : R2 = 0.49, RMSE = 446.365\n",
      "Testing  set : R2 = 0.493, RMSE = 440.188\n",
      "\n",
      "\n"
     ]
    }
   ],
   "source": [
    "for a in alphas:\n",
    "    print(f\"Avec Alpha = {a}\")\n",
    "    get_model_metrics(Lasso(alpha=a), X, y)\n",
    "    print(\"\\n\")\n"
   ]
  },
  {
   "source": [
    "### Ridge() avec différents alpha"
   ],
   "cell_type": "markdown",
   "metadata": {}
  },
  {
   "cell_type": "code",
   "execution_count": 14,
   "metadata": {},
   "outputs": [
    {
     "output_type": "stream",
     "name": "stdout",
     "text": [
      "Avec Alpha = 0.1\n",
      "β1 de distance_km : 139.456\n",
      "β1 de pickup_dayofweek : -13.514\n",
      "β0 (intercept_) : 408.545\n",
      "\n",
      "Training set : R2 = 0.495, RMSE = 444.452\n",
      "Testing  set : R2 = 0.497, RMSE = 438.43\n",
      "\n",
      "\n",
      "Avec Alpha = 1.0\n",
      "β1 de distance_km : 139.456\n",
      "β1 de pickup_dayofweek : -13.514\n",
      "β0 (intercept_) : 408.545\n",
      "\n",
      "Training set : R2 = 0.495, RMSE = 444.452\n",
      "Testing  set : R2 = 0.497, RMSE = 438.43\n",
      "\n",
      "\n",
      "Avec Alpha = 10.0\n",
      "β1 de distance_km : 139.456\n",
      "β1 de pickup_dayofweek : -13.514\n",
      "β0 (intercept_) : 408.545\n",
      "\n",
      "Training set : R2 = 0.495, RMSE = 444.452\n",
      "Testing  set : R2 = 0.497, RMSE = 438.429\n",
      "\n",
      "\n",
      "Avec Alpha = 100.0\n",
      "β1 de distance_km : 139.454\n",
      "β1 de pickup_dayofweek : -13.514\n",
      "β0 (intercept_) : 408.548\n",
      "\n",
      "Training set : R2 = 0.495, RMSE = 444.452\n",
      "Testing  set : R2 = 0.497, RMSE = 438.429\n",
      "\n",
      "\n"
     ]
    }
   ],
   "source": [
    "for a in alphas:\n",
    "    print(f\"Avec Alpha = {a}\")\n",
    "    get_model_metrics(Ridge(alpha=a), X, y)\n",
    "    print(\"\\n\")"
   ]
  },
  {
   "source": [
    "# Modèle 3"
   ],
   "cell_type": "markdown",
   "metadata": {}
  },
  {
   "cell_type": "code",
   "execution_count": 15,
   "metadata": {},
   "outputs": [],
   "source": [
    "y = df.trip_duration\n",
    "df_features = [\n",
    "    \"distance_km\",\n",
    "    \"pickup_part4h\"\n",
    "]\n",
    "X = df[df_features]"
   ]
  },
  {
   "source": [
    "## Évaluation du modèle\n",
    "### LinearRegression()"
   ],
   "cell_type": "markdown",
   "metadata": {}
  },
  {
   "cell_type": "code",
   "execution_count": 16,
   "metadata": {},
   "outputs": [
    {
     "output_type": "stream",
     "name": "stdout",
     "text": [
      "β1 de distance_km : 139.576\nβ1 de pickup_part4h : 18.877\nβ0 (intercept_) : 309.934\n\nTraining set : R2 = 0.495, RMSE = 444.243\nTesting  set : R2 = 0.498, RMSE = 438.246\n"
     ]
    }
   ],
   "source": [
    "get_model_metrics(LinearRegression(), X, y)"
   ]
  },
  {
   "source": [
    "### Lasso() avec différents alpha"
   ],
   "cell_type": "markdown",
   "metadata": {}
  },
  {
   "cell_type": "code",
   "execution_count": 17,
   "metadata": {},
   "outputs": [
    {
     "output_type": "stream",
     "name": "stdout",
     "text": [
      "Avec Alpha = 0.1\n",
      "β1 de distance_km : 139.565\n",
      "β1 de pickup_part4h : 18.836\n",
      "β0 (intercept_) : 310.091\n",
      "\n",
      "Training set : R2 = 0.495, RMSE = 444.243\n",
      "Testing  set : R2 = 0.498, RMSE = 438.246\n",
      "\n",
      "\n",
      "Avec Alpha = 1.0\n",
      "β1 de distance_km : 139.47\n",
      "β1 de pickup_part4h : 18.468\n",
      "β0 (intercept_) : 311.501\n",
      "\n",
      "Training set : R2 = 0.495, RMSE = 444.244\n",
      "Testing  set : R2 = 0.498, RMSE = 438.244\n",
      "\n",
      "\n",
      "Avec Alpha = 10.0\n",
      "β1 de distance_km : 138.517\n",
      "β1 de pickup_part4h : 14.788\n",
      "β0 (intercept_) : 325.596\n",
      "\n",
      "Training set : R2 = 0.495, RMSE = 444.301\n",
      "Testing  set : R2 = 0.498, RMSE = 438.279\n",
      "\n",
      "\n",
      "Avec Alpha = 100.0\n",
      "β1 de distance_km : 129.265\n",
      "β1 de pickup_part4h : 0.0\n",
      "β0 (intercept_) : 399.222\n",
      "\n",
      "Training set : R2 = 0.49, RMSE = 446.365\n",
      "Testing  set : R2 = 0.493, RMSE = 440.188\n",
      "\n",
      "\n"
     ]
    }
   ],
   "source": [
    "for a in alphas:\n",
    "    print(f\"Avec Alpha = {a}\")\n",
    "    get_model_metrics(Lasso(alpha=a), X, y)\n",
    "    print(\"\\n\")\n"
   ]
  },
  {
   "source": [
    "### Ridge() avec différents alpha"
   ],
   "cell_type": "markdown",
   "metadata": {}
  },
  {
   "cell_type": "code",
   "execution_count": 18,
   "metadata": {},
   "outputs": [
    {
     "output_type": "stream",
     "name": "stdout",
     "text": [
      "Avec Alpha = 0.1\n",
      "β1 de distance_km : 139.576\n",
      "β1 de pickup_part4h : 18.877\n",
      "β0 (intercept_) : 309.934\n",
      "\n",
      "Training set : R2 = 0.495, RMSE = 444.243\n",
      "Testing  set : R2 = 0.498, RMSE = 438.246\n",
      "\n",
      "\n",
      "Avec Alpha = 1.0\n",
      "β1 de distance_km : 139.576\n",
      "β1 de pickup_part4h : 18.877\n",
      "β0 (intercept_) : 309.935\n",
      "\n",
      "Training set : R2 = 0.495, RMSE = 444.243\n",
      "Testing  set : R2 = 0.498, RMSE = 438.246\n",
      "\n",
      "\n",
      "Avec Alpha = 10.0\n",
      "β1 de distance_km : 139.576\n",
      "β1 de pickup_part4h : 18.877\n",
      "β0 (intercept_) : 309.935\n",
      "\n",
      "Training set : R2 = 0.495, RMSE = 444.243\n",
      "Testing  set : R2 = 0.498, RMSE = 438.246\n",
      "\n",
      "\n",
      "Avec Alpha = 100.0\n",
      "β1 de distance_km : 139.575\n",
      "β1 de pickup_part4h : 18.876\n",
      "β0 (intercept_) : 309.941\n",
      "\n",
      "Training set : R2 = 0.495, RMSE = 444.243\n",
      "Testing  set : R2 = 0.498, RMSE = 438.246\n",
      "\n",
      "\n"
     ]
    }
   ],
   "source": [
    "for a in alphas:\n",
    "    print(f\"Avec Alpha = {a}\")\n",
    "    get_model_metrics(Ridge(alpha=a), X, y)\n",
    "    print(\"\\n\")"
   ]
  },
  {
   "source": [
    "# Modèle 4"
   ],
   "cell_type": "markdown",
   "metadata": {}
  },
  {
   "cell_type": "code",
   "execution_count": 19,
   "metadata": {},
   "outputs": [],
   "source": [
    "y = df.trip_duration\n",
    "df_features = [\n",
    "    \"pickup_dayofweek\",\n",
    "    \"pickup_part4h\"\n",
    "]\n",
    "X = df[df_features]"
   ]
  },
  {
   "source": [
    "## Évaluation du modèle\n",
    "### LinearRegression()"
   ],
   "cell_type": "markdown",
   "metadata": {}
  },
  {
   "cell_type": "code",
   "execution_count": 20,
   "metadata": {},
   "outputs": [
    {
     "output_type": "stream",
     "name": "stdout",
     "text": [
      "β1 de pickup_dayofweek : -9.686\nβ1 de pickup_part4h : 10.902\nβ0 (intercept_) : 800.502\n\nTraining set : R2 = 0.002, RMSE = 624.685\nTesting  set : R2 = 0.002, RMSE = 617.928\n"
     ]
    }
   ],
   "source": [
    "get_model_metrics(LinearRegression(), X, y)"
   ]
  },
  {
   "source": [
    "### Lasso() avec différents alpha"
   ],
   "cell_type": "markdown",
   "metadata": {}
  },
  {
   "cell_type": "code",
   "execution_count": 21,
   "metadata": {},
   "outputs": [
    {
     "output_type": "stream",
     "name": "stdout",
     "text": [
      "Avec Alpha = 0.1\n",
      "β1 de pickup_dayofweek : -9.662\n",
      "β1 de pickup_part4h : 10.864\n",
      "β0 (intercept_) : 800.544\n",
      "\n",
      "Training set : R2 = 0.002, RMSE = 624.685\n",
      "Testing  set : R2 = 0.002, RMSE = 617.928\n",
      "\n",
      "\n",
      "Avec Alpha = 1.0\n",
      "β1 de pickup_dayofweek : -9.45\n",
      "β1 de pickup_part4h : 10.523\n",
      "β0 (intercept_) : 800.925\n",
      "\n",
      "Training set : R2 = 0.002, RMSE = 624.686\n",
      "Testing  set : R2 = 0.002, RMSE = 617.928\n",
      "\n",
      "\n",
      "Avec Alpha = 10.0\n",
      "β1 de pickup_dayofweek : -7.323\n",
      "β1 de pickup_part4h : 7.115\n",
      "β0 (intercept_) : 804.73\n",
      "\n",
      "Training set : R2 = 0.002, RMSE = 624.734\n",
      "Testing  set : R2 = 0.002, RMSE = 617.973\n",
      "\n",
      "\n",
      "Avec Alpha = 100.0\n",
      "β1 de pickup_dayofweek : -0.0\n",
      "β1 de pickup_part4h : 0.0\n",
      "β0 (intercept_) : 803.882\n",
      "\n",
      "Training set : R2 = 0.0, RMSE = 625.251\n",
      "Testing  set : R2 = -0.0, RMSE = 618.488\n",
      "\n",
      "\n"
     ]
    }
   ],
   "source": [
    "for a in alphas:\n",
    "    print(f\"Avec Alpha = {a}\")\n",
    "    get_model_metrics(Lasso(alpha=a), X, y)\n",
    "    print(\"\\n\")\n"
   ]
  },
  {
   "source": [
    "### Ridge() avec différents alpha"
   ],
   "cell_type": "markdown",
   "metadata": {}
  },
  {
   "cell_type": "code",
   "execution_count": 22,
   "metadata": {},
   "outputs": [
    {
     "output_type": "stream",
     "name": "stdout",
     "text": [
      "Avec Alpha = 0.1\n",
      "β1 de pickup_dayofweek : -9.686\n",
      "β1 de pickup_part4h : 10.902\n",
      "β0 (intercept_) : 800.502\n",
      "\n",
      "Training set : R2 = 0.002, RMSE = 624.685\n",
      "Testing  set : R2 = 0.002, RMSE = 617.928\n",
      "\n",
      "\n",
      "Avec Alpha = 1.0\n",
      "β1 de pickup_dayofweek : -9.686\n",
      "β1 de pickup_part4h : 10.902\n",
      "β0 (intercept_) : 800.502\n",
      "\n",
      "Training set : R2 = 0.002, RMSE = 624.685\n",
      "Testing  set : R2 = 0.002, RMSE = 617.928\n",
      "\n",
      "\n",
      "Avec Alpha = 10.0\n",
      "β1 de pickup_dayofweek : -9.686\n",
      "β1 de pickup_part4h : 10.902\n",
      "β0 (intercept_) : 800.502\n",
      "\n",
      "Training set : R2 = 0.002, RMSE = 624.685\n",
      "Testing  set : R2 = 0.002, RMSE = 617.928\n",
      "\n",
      "\n",
      "Avec Alpha = 100.0\n",
      "β1 de pickup_dayofweek : -9.686\n",
      "β1 de pickup_part4h : 10.901\n",
      "β0 (intercept_) : 800.502\n",
      "\n",
      "Training set : R2 = 0.002, RMSE = 624.685\n",
      "Testing  set : R2 = 0.002, RMSE = 617.928\n",
      "\n",
      "\n"
     ]
    }
   ],
   "source": [
    "for a in alphas:\n",
    "    print(f\"Avec Alpha = {a}\")\n",
    "    get_model_metrics(Ridge(alpha=a), X, y)\n",
    "    print(\"\\n\")"
   ]
  },
  {
   "source": [
    "## Conclusion\n",
    "\n",
    "- On remarque que seul la distance a vraiment des répercutions sur la distance.\n",
    "- Cela peut-être dut au fait que les distances sont calculés à vol d'oiseau.\n",
    "- De manière générale, avec un alpha supérieur à 10 le modèle devient moins fiable."
   ],
   "cell_type": "markdown",
   "metadata": {}
  }
 ]
}