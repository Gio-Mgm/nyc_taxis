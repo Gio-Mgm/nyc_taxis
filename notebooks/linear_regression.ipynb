{
 "metadata": {
  "language_info": {
   "codemirror_mode": {
    "name": "ipython",
    "version": 3
   },
   "file_extension": ".py",
   "mimetype": "text/x-python",
   "name": "python",
   "nbconvert_exporter": "python",
   "pygments_lexer": "ipython3",
   "version": "3.8.5"
  },
  "orig_nbformat": 2,
  "kernelspec": {
   "name": "python385jvsc74a57bd08224d4ec9857f5f2d3915b47613da9acc0e9c91d6b4c8d2fd51c493a871d537c",
   "display_name": "Python 3.8.5 64-bit ('base': conda)"
  },
  "metadata": {
   "interpreter": {
    "hash": "8224d4ec9857f5f2d3915b47613da9acc0e9c91d6b4c8d2fd51c493a871d537c"
   }
  }
 },
 "nbformat": 4,
 "nbformat_minor": 2,
 "cells": [
  {
   "source": [
    "# Partie prédictive:\n",
    "## Vous mettrez en place un modèle de regression linéaire qui permet d'estimer le temps de trajet en fonction de sa distance."
   ],
   "cell_type": "markdown",
   "metadata": {}
  },
  {
   "cell_type": "code",
   "execution_count": 1,
   "metadata": {},
   "outputs": [],
   "source": [
    "import sys\n",
    "sys.path.append(\"../src\")\n",
    "\n",
    "import pandas as pd\n",
    "\n",
    "from functions import get_model_metrics, get_r2_rmse\n",
    "from sklearn.linear_model import LinearRegression, Ridge, Lasso\n",
    "\n",
    "pd.set_option('display.float_format', lambda x: f'{x:,.4f}')\n",
    "\n",
    "df = pd.read_csv(\"../data/02_intermediate/train.csv\")\n",
    "#df = pd.read_csv(\"../data/02_intermediate/dirty_train.csv\")"
   ]
  },
  {
   "cell_type": "code",
   "execution_count": 2,
   "metadata": {},
   "outputs": [
    {
     "output_type": "execute_result",
     "data": {
      "text/plain": [
       "           vendor_id  pickup_longitude  pickup_latitude  dropoff_longitude  \\\n",
       "count 1,432,760.0000    1,432,760.0000   1,432,760.0000     1,432,760.0000   \n",
       "mean          1.5339          -73.9754          40.7520           -73.9744   \n",
       "std           0.4989            0.0682           0.0285             0.0677   \n",
       "min           1.0000         -121.9333          34.3597          -121.9333   \n",
       "25%           1.0000          -73.9920          40.7380           -73.9914   \n",
       "50%           2.0000          -73.9819          40.7545           -73.9799   \n",
       "75%           2.0000          -73.9679          40.7685           -73.9634   \n",
       "max           2.0000          -61.3355          43.9118           -61.3355   \n",
       "\n",
       "       dropoff_latitude  trip_duration  pickup_dayofweek  pickup_part4h  \\\n",
       "count    1,432,760.0000 1,432,760.0000    1,432,760.0000 1,432,760.0000   \n",
       "mean            40.7522       803.7836            3.0508         3.0192   \n",
       "std              0.0330       623.9046            1.9526         1.5744   \n",
       "min             34.3597         1.0000            0.0000         0.0000   \n",
       "25%             40.7363       393.0000            1.0000         2.0000   \n",
       "50%             40.7546       652.0000            3.0000         3.0000   \n",
       "75%             40.7699     1,045.0000            5.0000         4.0000   \n",
       "max             43.9118    39,770.0000            6.0000         5.0000   \n",
       "\n",
       "         distance_km    km_per_hour  \n",
       "count 1,432,760.0000 1,432,760.0000  \n",
       "mean          3.1304        14.1368  \n",
       "std           3.1486         7.4890  \n",
       "min           0.0000         0.0000  \n",
       "25%           1.2201         9.0000  \n",
       "50%           2.0575        13.0000  \n",
       "75%           3.7257        18.0000  \n",
       "max          19.9999       150.0000  "
      ],
      "text/html": "<div>\n<style scoped>\n    .dataframe tbody tr th:only-of-type {\n        vertical-align: middle;\n    }\n\n    .dataframe tbody tr th {\n        vertical-align: top;\n    }\n\n    .dataframe thead th {\n        text-align: right;\n    }\n</style>\n<table border=\"1\" class=\"dataframe\">\n  <thead>\n    <tr style=\"text-align: right;\">\n      <th></th>\n      <th>vendor_id</th>\n      <th>pickup_longitude</th>\n      <th>pickup_latitude</th>\n      <th>dropoff_longitude</th>\n      <th>dropoff_latitude</th>\n      <th>trip_duration</th>\n      <th>pickup_dayofweek</th>\n      <th>pickup_part4h</th>\n      <th>distance_km</th>\n      <th>km_per_hour</th>\n    </tr>\n  </thead>\n  <tbody>\n    <tr>\n      <th>count</th>\n      <td>1,432,760.0000</td>\n      <td>1,432,760.0000</td>\n      <td>1,432,760.0000</td>\n      <td>1,432,760.0000</td>\n      <td>1,432,760.0000</td>\n      <td>1,432,760.0000</td>\n      <td>1,432,760.0000</td>\n      <td>1,432,760.0000</td>\n      <td>1,432,760.0000</td>\n      <td>1,432,760.0000</td>\n    </tr>\n    <tr>\n      <th>mean</th>\n      <td>1.5339</td>\n      <td>-73.9754</td>\n      <td>40.7520</td>\n      <td>-73.9744</td>\n      <td>40.7522</td>\n      <td>803.7836</td>\n      <td>3.0508</td>\n      <td>3.0192</td>\n      <td>3.1304</td>\n      <td>14.1368</td>\n    </tr>\n    <tr>\n      <th>std</th>\n      <td>0.4989</td>\n      <td>0.0682</td>\n      <td>0.0285</td>\n      <td>0.0677</td>\n      <td>0.0330</td>\n      <td>623.9046</td>\n      <td>1.9526</td>\n      <td>1.5744</td>\n      <td>3.1486</td>\n      <td>7.4890</td>\n    </tr>\n    <tr>\n      <th>min</th>\n      <td>1.0000</td>\n      <td>-121.9333</td>\n      <td>34.3597</td>\n      <td>-121.9333</td>\n      <td>34.3597</td>\n      <td>1.0000</td>\n      <td>0.0000</td>\n      <td>0.0000</td>\n      <td>0.0000</td>\n      <td>0.0000</td>\n    </tr>\n    <tr>\n      <th>25%</th>\n      <td>1.0000</td>\n      <td>-73.9920</td>\n      <td>40.7380</td>\n      <td>-73.9914</td>\n      <td>40.7363</td>\n      <td>393.0000</td>\n      <td>1.0000</td>\n      <td>2.0000</td>\n      <td>1.2201</td>\n      <td>9.0000</td>\n    </tr>\n    <tr>\n      <th>50%</th>\n      <td>2.0000</td>\n      <td>-73.9819</td>\n      <td>40.7545</td>\n      <td>-73.9799</td>\n      <td>40.7546</td>\n      <td>652.0000</td>\n      <td>3.0000</td>\n      <td>3.0000</td>\n      <td>2.0575</td>\n      <td>13.0000</td>\n    </tr>\n    <tr>\n      <th>75%</th>\n      <td>2.0000</td>\n      <td>-73.9679</td>\n      <td>40.7685</td>\n      <td>-73.9634</td>\n      <td>40.7699</td>\n      <td>1,045.0000</td>\n      <td>5.0000</td>\n      <td>4.0000</td>\n      <td>3.7257</td>\n      <td>18.0000</td>\n    </tr>\n    <tr>\n      <th>max</th>\n      <td>2.0000</td>\n      <td>-61.3355</td>\n      <td>43.9118</td>\n      <td>-61.3355</td>\n      <td>43.9118</td>\n      <td>39,770.0000</td>\n      <td>6.0000</td>\n      <td>5.0000</td>\n      <td>19.9999</td>\n      <td>150.0000</td>\n    </tr>\n  </tbody>\n</table>\n</div>"
     },
     "metadata": {},
     "execution_count": 2
    }
   ],
   "source": [
    "df.describe()"
   ]
  },
  {
   "source": [
    "### Régression linéaire à un paramètre"
   ],
   "cell_type": "markdown",
   "metadata": {}
  },
  {
   "cell_type": "code",
   "execution_count": 3,
   "metadata": {},
   "outputs": [],
   "source": [
    "y = df.trip_duration\n",
    "df_features = [\"distance_km\"]\n",
    "X = df[df_features]"
   ]
  },
  {
   "cell_type": "code",
   "execution_count": 4,
   "metadata": {},
   "outputs": [
    {
     "output_type": "stream",
     "name": "stdout",
     "text": [
      "β1 de distance_km : 139.341\nβ0 (intercept_) : 367.681\n\nTraining set : R2 = 0.493, RMSE = 445.235\nTesting  set : R2 = 0.496, RMSE = 439.209\n"
     ]
    }
   ],
   "source": [
    "get_model_metrics(LinearRegression(), X, y)\n"
   ]
  },
  {
   "source": [
    "## Modèle multi linéaire\n",
    "### Modèle 1\n",
    "#### Hypothèse à vérifier : absence de colinéarité"
   ],
   "cell_type": "markdown",
   "metadata": {}
  },
  {
   "cell_type": "code",
   "execution_count": 5,
   "metadata": {},
   "outputs": [
    {
     "output_type": "execute_result",
     "data": {
      "text/plain": [
       "                  trip_duration  distance_km  pickup_dayofweek  pickup_part4h\n",
       "trip_duration            1.0000       0.7025           -0.0327         0.0299\n",
       "distance_km              0.7025       1.0000            0.0136        -0.0249\n",
       "pickup_dayofweek        -0.0327       0.0136            1.0000        -0.0853\n",
       "pickup_part4h            0.0299      -0.0249           -0.0853         1.0000"
      ],
      "text/html": "<div>\n<style scoped>\n    .dataframe tbody tr th:only-of-type {\n        vertical-align: middle;\n    }\n\n    .dataframe tbody tr th {\n        vertical-align: top;\n    }\n\n    .dataframe thead th {\n        text-align: right;\n    }\n</style>\n<table border=\"1\" class=\"dataframe\">\n  <thead>\n    <tr style=\"text-align: right;\">\n      <th></th>\n      <th>trip_duration</th>\n      <th>distance_km</th>\n      <th>pickup_dayofweek</th>\n      <th>pickup_part4h</th>\n    </tr>\n  </thead>\n  <tbody>\n    <tr>\n      <th>trip_duration</th>\n      <td>1.0000</td>\n      <td>0.7025</td>\n      <td>-0.0327</td>\n      <td>0.0299</td>\n    </tr>\n    <tr>\n      <th>distance_km</th>\n      <td>0.7025</td>\n      <td>1.0000</td>\n      <td>0.0136</td>\n      <td>-0.0249</td>\n    </tr>\n    <tr>\n      <th>pickup_dayofweek</th>\n      <td>-0.0327</td>\n      <td>0.0136</td>\n      <td>1.0000</td>\n      <td>-0.0853</td>\n    </tr>\n    <tr>\n      <th>pickup_part4h</th>\n      <td>0.0299</td>\n      <td>-0.0249</td>\n      <td>-0.0853</td>\n      <td>1.0000</td>\n    </tr>\n  </tbody>\n</table>\n</div>"
     },
     "metadata": {},
     "execution_count": 5
    }
   ],
   "source": [
    "df[[\n",
    "    \"trip_duration\",\n",
    "    \"distance_km\",\n",
    "    \"pickup_dayofweek\",\n",
    "    \"pickup_part4h\"\n",
    "]].corr()\n"
   ]
  },
  {
   "source": [
    "La matrix de corrélation ci-dessus nous apprend que :\n",
    "- Les coefficients de corrélation sont inférieur à 0.8.\n",
    "- La distance est la variable la plus corrélé, tandis que que les deux autres variables ont un impacts assez faible\n",
    "- **Hypothèse vérifiée** : absence de colinéarité entre les variables explicatives"
   ],
   "cell_type": "markdown",
   "metadata": {}
  },
  {
   "source": [
    "### Choix des features :\n",
    "- *distance* : indicateur pincipale pour calculer la durée du trajet\n",
    "- *pickup_dayofweek* : on suppose que le jour à une influence sur l'état du trafic et donc sur la durée du trajet\n",
    "- *pickup_part4h* :on suppose que le moment de la journée à une influence sur l'état du trafic et donc sur la durée du trajet"
   ],
   "cell_type": "markdown",
   "metadata": {}
  },
  {
   "cell_type": "code",
   "execution_count": 6,
   "metadata": {},
   "outputs": [],
   "source": [
    "y = df.trip_duration\n",
    "df_features = [\n",
    "    \"distance_km\",\n",
    "    \"pickup_dayofweek\",\n",
    "    \"pickup_part4h\"\n",
    "]\n",
    "X = df[df_features]"
   ]
  },
  {
   "source": [
    "## Évaluation du modèle\n",
    "### LinearRegression()"
   ],
   "cell_type": "markdown",
   "metadata": {}
  },
  {
   "cell_type": "code",
   "execution_count": 7,
   "metadata": {},
   "outputs": [
    {
     "output_type": "stream",
     "name": "stdout",
     "text": [
      "β1 de distance_km : 139.664\nβ1 de pickup_dayofweek : -12.314\nβ1 de pickup_part4h : 17.583\nβ0 (intercept_) : 351.128\n\nTraining set : R2 = 0.497, RMSE = 443.596\nTesting  set : R2 = 0.499, RMSE = 437.603\n"
     ]
    }
   ],
   "source": [
    "get_model_metrics(LinearRegression(), X, y)\n"
   ]
  },
  {
   "source": [
    "#### Liste des alpha à utiliser pour les Lasso() et les Ridge()"
   ],
   "cell_type": "markdown",
   "metadata": {}
  },
  {
   "cell_type": "code",
   "execution_count": 8,
   "metadata": {},
   "outputs": [],
   "source": [
    "alphas = [200*i+1 for i in range(6)]"
   ]
  },
  {
   "source": [
    "### Lasso() avec différents alpha"
   ],
   "cell_type": "markdown",
   "metadata": {}
  },
  {
   "cell_type": "code",
   "execution_count": 9,
   "metadata": {},
   "outputs": [
    {
     "output_type": "stream",
     "name": "stdout",
     "text": [
      "Avec Alpha = 1\n",
      "β1 de distance_km : 139.557\n",
      "β1 de pickup_dayofweek : -12.075\n",
      "β1 de pickup_part4h : 17.199\n",
      "β0 (intercept_) : 351.896\n",
      "\n",
      "Training set : R2 = 0.497, RMSE = 443.597\n",
      "Testing  set : R2 = 0.499, RMSE = 437.601\n",
      "\n",
      "\n",
      "Avec Alpha = 201\n",
      "β1 de distance_km : 119.089\n",
      "β1 de pickup_dayofweek : -0.0\n",
      "β1 de pickup_part4h : 0.0\n",
      "β0 (intercept_) : 431.078\n",
      "\n",
      "Training set : R2 = 0.483, RMSE = 449.783\n",
      "Testing  set : R2 = 0.486, RMSE = 443.472\n",
      "\n",
      "\n",
      "Avec Alpha = 401\n",
      "β1 de distance_km : 98.938\n",
      "β1 de pickup_dayofweek : -0.0\n",
      "β1 de pickup_part4h : 0.0\n",
      "β0 (intercept_) : 494.16\n",
      "\n",
      "Training set : R2 = 0.451, RMSE = 463.072\n",
      "Testing  set : R2 = 0.455, RMSE = 456.558\n",
      "\n",
      "\n",
      "Avec Alpha = 601\n",
      "β1 de distance_km : 78.787\n",
      "β1 de pickup_dayofweek : -0.0\n",
      "β1 de pickup_part4h : 0.0\n",
      "β0 (intercept_) : 557.241\n",
      "\n",
      "Training set : R2 = 0.4, RMSE = 484.383\n",
      "Testing  set : R2 = 0.403, RMSE = 477.74\n",
      "\n",
      "\n",
      "Avec Alpha = 801\n",
      "β1 de distance_km : 58.636\n",
      "β1 de pickup_dayofweek : -0.0\n",
      "β1 de pickup_part4h : 0.0\n",
      "β0 (intercept_) : 620.323\n",
      "\n",
      "Training set : R2 = 0.328, RMSE = 512.717\n",
      "Testing  set : R2 = 0.331, RMSE = 506.004\n",
      "\n",
      "\n",
      "Avec Alpha = 1001\n",
      "β1 de distance_km : 38.486\n",
      "β1 de pickup_dayofweek : -0.0\n",
      "β1 de pickup_part4h : 0.0\n",
      "β0 (intercept_) : 683.405\n",
      "\n",
      "Training set : R2 = 0.235, RMSE = 546.983\n",
      "Testing  set : R2 = 0.237, RMSE = 540.237\n",
      "\n",
      "\n"
     ]
    }
   ],
   "source": [
    "for a in alphas:\n",
    "    print(f\"Avec Alpha = {a}\")\n",
    "    get_model_metrics(Lasso(alpha=a), X, y)\n",
    "    print(\"\\n\")\n"
   ]
  },
  {
   "source": [
    "### Ridge() avec différents alpha"
   ],
   "cell_type": "markdown",
   "metadata": {}
  },
  {
   "cell_type": "code",
   "execution_count": 10,
   "metadata": {},
   "outputs": [
    {
     "output_type": "stream",
     "name": "stdout",
     "text": [
      "Avec Alpha = 1\n",
      "β1 de distance_km : 139.664\n",
      "β1 de pickup_dayofweek : -12.314\n",
      "β1 de pickup_part4h : 17.583\n",
      "β0 (intercept_) : 351.128\n",
      "\n",
      "Training set : R2 = 0.497, RMSE = 443.596\n",
      "Testing  set : R2 = 0.499, RMSE = 437.603\n",
      "\n",
      "\n",
      "Avec Alpha = 201\n",
      "β1 de distance_km : 139.662\n",
      "β1 de pickup_dayofweek : -12.313\n",
      "β1 de pickup_part4h : 17.581\n",
      "β0 (intercept_) : 351.138\n",
      "\n",
      "Training set : R2 = 0.497, RMSE = 443.596\n",
      "Testing  set : R2 = 0.499, RMSE = 437.603\n",
      "\n",
      "\n",
      "Avec Alpha = 401\n",
      "β1 de distance_km : 139.659\n",
      "β1 de pickup_dayofweek : -12.313\n",
      "β1 de pickup_part4h : 17.58\n",
      "β0 (intercept_) : 351.148\n",
      "\n",
      "Training set : R2 = 0.497, RMSE = 443.596\n",
      "Testing  set : R2 = 0.499, RMSE = 437.602\n",
      "\n",
      "\n",
      "Avec Alpha = 601\n",
      "β1 de distance_km : 139.657\n",
      "β1 de pickup_dayofweek : -12.312\n",
      "β1 de pickup_part4h : 17.579\n",
      "β0 (intercept_) : 351.158\n",
      "\n",
      "Training set : R2 = 0.497, RMSE = 443.596\n",
      "Testing  set : R2 = 0.499, RMSE = 437.602\n",
      "\n",
      "\n",
      "Avec Alpha = 801\n",
      "β1 de distance_km : 139.654\n",
      "β1 de pickup_dayofweek : -12.312\n",
      "β1 de pickup_part4h : 17.578\n",
      "β0 (intercept_) : 351.168\n",
      "\n",
      "Training set : R2 = 0.497, RMSE = 443.596\n",
      "Testing  set : R2 = 0.499, RMSE = 437.602\n",
      "\n",
      "\n",
      "Avec Alpha = 1001\n",
      "β1 de distance_km : 139.652\n",
      "β1 de pickup_dayofweek : -12.311\n",
      "β1 de pickup_part4h : 17.576\n",
      "β0 (intercept_) : 351.178\n",
      "\n",
      "Training set : R2 = 0.497, RMSE = 443.596\n",
      "Testing  set : R2 = 0.499, RMSE = 437.602\n",
      "\n",
      "\n"
     ]
    }
   ],
   "source": [
    "for a in alphas:\n",
    "    print(f\"Avec Alpha = {a}\")\n",
    "    get_model_metrics(Ridge(alpha=a), X, y)\n",
    "    print(\"\\n\")"
   ]
  },
  {
   "source": [
    " # Modèle 2"
   ],
   "cell_type": "markdown",
   "metadata": {}
  },
  {
   "cell_type": "code",
   "execution_count": 11,
   "metadata": {},
   "outputs": [],
   "source": [
    "y = df.trip_duration\n",
    "df_features = [\n",
    "    \"distance_km\",\n",
    "    \"pickup_dayofweek\"\n",
    "]\n",
    "X = df[df_features]"
   ]
  },
  {
   "source": [
    "## Évaluation du modèle\n",
    "### LinearRegression()"
   ],
   "cell_type": "markdown",
   "metadata": {}
  },
  {
   "cell_type": "code",
   "execution_count": 12,
   "metadata": {},
   "outputs": [
    {
     "output_type": "stream",
     "name": "stdout",
     "text": [
      "β1 de distance_km : 139.456\nβ1 de pickup_dayofweek : -13.514\nβ0 (intercept_) : 408.545\n\nTraining set : R2 = 0.495, RMSE = 444.452\nTesting  set : R2 = 0.497, RMSE = 438.43\n"
     ]
    }
   ],
   "source": [
    "get_model_metrics(LinearRegression(), X, y)"
   ]
  },
  {
   "source": [
    "### Lasso() avec différents alpha"
   ],
   "cell_type": "markdown",
   "metadata": {}
  },
  {
   "cell_type": "code",
   "execution_count": 13,
   "metadata": {},
   "outputs": [
    {
     "output_type": "stream",
     "name": "stdout",
     "text": [
      "Avec Alpha = 1\n",
      "β1 de distance_km : 139.353\n",
      "β1 de pickup_dayofweek : -13.249\n",
      "β0 (intercept_) : 408.06\n",
      "\n",
      "Training set : R2 = 0.495, RMSE = 444.453\n",
      "Testing  set : R2 = 0.498, RMSE = 438.428\n",
      "\n",
      "\n",
      "Avec Alpha = 201\n",
      "β1 de distance_km : 119.089\n",
      "β1 de pickup_dayofweek : -0.0\n",
      "β0 (intercept_) : 431.078\n",
      "\n",
      "Training set : R2 = 0.483, RMSE = 449.783\n",
      "Testing  set : R2 = 0.486, RMSE = 443.472\n",
      "\n",
      "\n",
      "Avec Alpha = 401\n",
      "β1 de distance_km : 98.938\n",
      "β1 de pickup_dayofweek : -0.0\n",
      "β0 (intercept_) : 494.16\n",
      "\n",
      "Training set : R2 = 0.451, RMSE = 463.072\n",
      "Testing  set : R2 = 0.455, RMSE = 456.558\n",
      "\n",
      "\n",
      "Avec Alpha = 601\n",
      "β1 de distance_km : 78.787\n",
      "β1 de pickup_dayofweek : -0.0\n",
      "β0 (intercept_) : 557.241\n",
      "\n",
      "Training set : R2 = 0.4, RMSE = 484.383\n",
      "Testing  set : R2 = 0.403, RMSE = 477.74\n",
      "\n",
      "\n",
      "Avec Alpha = 801\n",
      "β1 de distance_km : 58.636\n",
      "β1 de pickup_dayofweek : -0.0\n",
      "β0 (intercept_) : 620.323\n",
      "\n",
      "Training set : R2 = 0.328, RMSE = 512.717\n",
      "Testing  set : R2 = 0.331, RMSE = 506.004\n",
      "\n",
      "\n",
      "Avec Alpha = 1001\n",
      "β1 de distance_km : 38.486\n",
      "β1 de pickup_dayofweek : -0.0\n",
      "β0 (intercept_) : 683.405\n",
      "\n",
      "Training set : R2 = 0.235, RMSE = 546.983\n",
      "Testing  set : R2 = 0.237, RMSE = 540.237\n",
      "\n",
      "\n"
     ]
    }
   ],
   "source": [
    "for a in alphas:\n",
    "    print(f\"Avec Alpha = {a}\")\n",
    "    get_model_metrics(Lasso(alpha=a), X, y)\n",
    "    print(\"\\n\")\n"
   ]
  },
  {
   "source": [
    "### Ridge() avec différents alpha"
   ],
   "cell_type": "markdown",
   "metadata": {}
  },
  {
   "cell_type": "code",
   "execution_count": 14,
   "metadata": {},
   "outputs": [
    {
     "output_type": "stream",
     "name": "stdout",
     "text": [
      "Avec Alpha = 1\n",
      "β1 de distance_km : 139.456\n",
      "β1 de pickup_dayofweek : -13.514\n",
      "β0 (intercept_) : 408.545\n",
      "\n",
      "Training set : R2 = 0.495, RMSE = 444.452\n",
      "Testing  set : R2 = 0.497, RMSE = 438.43\n",
      "\n",
      "\n",
      "Avec Alpha = 201\n",
      "β1 de distance_km : 139.453\n",
      "β1 de pickup_dayofweek : -13.513\n",
      "β0 (intercept_) : 408.55\n",
      "\n",
      "Training set : R2 = 0.495, RMSE = 444.452\n",
      "Testing  set : R2 = 0.497, RMSE = 438.429\n",
      "\n",
      "\n",
      "Avec Alpha = 401\n",
      "β1 de distance_km : 139.451\n",
      "β1 de pickup_dayofweek : -13.513\n",
      "β0 (intercept_) : 408.556\n",
      "\n",
      "Training set : R2 = 0.495, RMSE = 444.452\n",
      "Testing  set : R2 = 0.497, RMSE = 438.429\n",
      "\n",
      "\n",
      "Avec Alpha = 601\n",
      "β1 de distance_km : 139.448\n",
      "β1 de pickup_dayofweek : -13.512\n",
      "β0 (intercept_) : 408.562\n",
      "\n",
      "Training set : R2 = 0.495, RMSE = 444.452\n",
      "Testing  set : R2 = 0.497, RMSE = 438.429\n",
      "\n",
      "\n",
      "Avec Alpha = 801\n",
      "β1 de distance_km : 139.446\n",
      "β1 de pickup_dayofweek : -13.511\n",
      "β0 (intercept_) : 408.567\n",
      "\n",
      "Training set : R2 = 0.495, RMSE = 444.452\n",
      "Testing  set : R2 = 0.497, RMSE = 438.429\n",
      "\n",
      "\n",
      "Avec Alpha = 1001\n",
      "β1 de distance_km : 139.443\n",
      "β1 de pickup_dayofweek : -13.511\n",
      "β0 (intercept_) : 408.573\n",
      "\n",
      "Training set : R2 = 0.495, RMSE = 444.452\n",
      "Testing  set : R2 = 0.497, RMSE = 438.429\n",
      "\n",
      "\n"
     ]
    }
   ],
   "source": [
    "for a in alphas:\n",
    "    print(f\"Avec Alpha = {a}\")\n",
    "    get_model_metrics(Ridge(alpha=a), X, y)\n",
    "    print(\"\\n\")"
   ]
  },
  {
   "source": [
    "# Modèle 3"
   ],
   "cell_type": "markdown",
   "metadata": {}
  },
  {
   "cell_type": "code",
   "execution_count": 15,
   "metadata": {},
   "outputs": [],
   "source": [
    "y = df.trip_duration\n",
    "df_features = [\n",
    "    \"distance_km\",\n",
    "    \"pickup_part4h\"\n",
    "]\n",
    "X = df[df_features]"
   ]
  },
  {
   "source": [
    "## Évaluation du modèle\n",
    "### LinearRegression()"
   ],
   "cell_type": "markdown",
   "metadata": {}
  },
  {
   "cell_type": "code",
   "execution_count": 16,
   "metadata": {},
   "outputs": [
    {
     "output_type": "stream",
     "name": "stdout",
     "text": [
      "β1 de distance_km : 139.576\nβ1 de pickup_part4h : 18.877\nβ0 (intercept_) : 309.934\n\nTraining set : R2 = 0.495, RMSE = 444.243\nTesting  set : R2 = 0.498, RMSE = 438.246\n"
     ]
    }
   ],
   "source": [
    "get_model_metrics(LinearRegression(), X, y)"
   ]
  },
  {
   "source": [
    "### Lasso() avec différents alpha"
   ],
   "cell_type": "markdown",
   "metadata": {}
  },
  {
   "cell_type": "code",
   "execution_count": 17,
   "metadata": {},
   "outputs": [
    {
     "output_type": "stream",
     "name": "stdout",
     "text": [
      "Avec Alpha = 1\n",
      "β1 de distance_km : 139.47\n",
      "β1 de pickup_part4h : 18.468\n",
      "β0 (intercept_) : 311.501\n",
      "\n",
      "Training set : R2 = 0.495, RMSE = 444.244\n",
      "Testing  set : R2 = 0.498, RMSE = 438.244\n",
      "\n",
      "\n",
      "Avec Alpha = 201\n",
      "β1 de distance_km : 119.089\n",
      "β1 de pickup_part4h : 0.0\n",
      "β0 (intercept_) : 431.078\n",
      "\n",
      "Training set : R2 = 0.483, RMSE = 449.783\n",
      "Testing  set : R2 = 0.486, RMSE = 443.472\n",
      "\n",
      "\n",
      "Avec Alpha = 401\n",
      "β1 de distance_km : 98.938\n",
      "β1 de pickup_part4h : 0.0\n",
      "β0 (intercept_) : 494.16\n",
      "\n",
      "Training set : R2 = 0.451, RMSE = 463.072\n",
      "Testing  set : R2 = 0.455, RMSE = 456.558\n",
      "\n",
      "\n",
      "Avec Alpha = 601\n",
      "β1 de distance_km : 78.787\n",
      "β1 de pickup_part4h : 0.0\n",
      "β0 (intercept_) : 557.241\n",
      "\n",
      "Training set : R2 = 0.4, RMSE = 484.383\n",
      "Testing  set : R2 = 0.403, RMSE = 477.74\n",
      "\n",
      "\n",
      "Avec Alpha = 801\n",
      "β1 de distance_km : 58.636\n",
      "β1 de pickup_part4h : 0.0\n",
      "β0 (intercept_) : 620.323\n",
      "\n",
      "Training set : R2 = 0.328, RMSE = 512.717\n",
      "Testing  set : R2 = 0.331, RMSE = 506.004\n",
      "\n",
      "\n",
      "Avec Alpha = 1001\n",
      "β1 de distance_km : 38.486\n",
      "β1 de pickup_part4h : 0.0\n",
      "β0 (intercept_) : 683.405\n",
      "\n",
      "Training set : R2 = 0.235, RMSE = 546.983\n",
      "Testing  set : R2 = 0.237, RMSE = 540.237\n",
      "\n",
      "\n"
     ]
    }
   ],
   "source": [
    "for a in alphas:\n",
    "    print(f\"Avec Alpha = {a}\")\n",
    "    get_model_metrics(Lasso(alpha=a), X, y)\n",
    "    print(\"\\n\")\n"
   ]
  },
  {
   "source": [
    "### Ridge() avec différents alpha"
   ],
   "cell_type": "markdown",
   "metadata": {}
  },
  {
   "cell_type": "code",
   "execution_count": 18,
   "metadata": {},
   "outputs": [
    {
     "output_type": "stream",
     "name": "stdout",
     "text": [
      "Avec Alpha = 1\n",
      "β1 de distance_km : 139.576\n",
      "β1 de pickup_part4h : 18.877\n",
      "β0 (intercept_) : 309.935\n",
      "\n",
      "Training set : R2 = 0.495, RMSE = 444.243\n",
      "Testing  set : R2 = 0.498, RMSE = 438.246\n",
      "\n",
      "\n",
      "Avec Alpha = 201\n",
      "β1 de distance_km : 139.573\n",
      "β1 de pickup_part4h : 18.875\n",
      "β0 (intercept_) : 309.947\n",
      "\n",
      "Training set : R2 = 0.495, RMSE = 444.243\n",
      "Testing  set : R2 = 0.498, RMSE = 438.246\n",
      "\n",
      "\n",
      "Avec Alpha = 401\n",
      "β1 de distance_km : 139.571\n",
      "β1 de pickup_part4h : 18.874\n",
      "β0 (intercept_) : 309.959\n",
      "\n",
      "Training set : R2 = 0.495, RMSE = 444.243\n",
      "Testing  set : R2 = 0.498, RMSE = 438.246\n",
      "\n",
      "\n",
      "Avec Alpha = 601\n",
      "β1 de distance_km : 139.568\n",
      "β1 de pickup_part4h : 18.872\n",
      "β0 (intercept_) : 309.971\n",
      "\n",
      "Training set : R2 = 0.495, RMSE = 444.243\n",
      "Testing  set : R2 = 0.498, RMSE = 438.246\n",
      "\n",
      "\n",
      "Avec Alpha = 801\n",
      "β1 de distance_km : 139.566\n",
      "β1 de pickup_part4h : 18.871\n",
      "β0 (intercept_) : 309.983\n",
      "\n",
      "Training set : R2 = 0.495, RMSE = 444.243\n",
      "Testing  set : R2 = 0.498, RMSE = 438.246\n",
      "\n",
      "\n",
      "Avec Alpha = 1001\n",
      "β1 de distance_km : 139.563\n",
      "β1 de pickup_part4h : 18.869\n",
      "β0 (intercept_) : 309.995\n",
      "\n",
      "Training set : R2 = 0.495, RMSE = 444.243\n",
      "Testing  set : R2 = 0.498, RMSE = 438.246\n",
      "\n",
      "\n"
     ]
    }
   ],
   "source": [
    "for a in alphas:\n",
    "    print(f\"Avec Alpha = {a}\")\n",
    "    get_model_metrics(Ridge(alpha=a), X, y)\n",
    "    print(\"\\n\")"
   ]
  },
  {
   "source": [
    "# Modèle 4"
   ],
   "cell_type": "markdown",
   "metadata": {}
  },
  {
   "cell_type": "code",
   "execution_count": 19,
   "metadata": {},
   "outputs": [],
   "source": [
    "y = df.trip_duration\n",
    "df_features = [\n",
    "    \"pickup_dayofweek\",\n",
    "    \"pickup_part4h\"\n",
    "]\n",
    "X = df[df_features]"
   ]
  },
  {
   "source": [
    "## Évaluation du modèle\n",
    "### LinearRegression()"
   ],
   "cell_type": "markdown",
   "metadata": {}
  },
  {
   "cell_type": "code",
   "execution_count": 20,
   "metadata": {},
   "outputs": [
    {
     "output_type": "stream",
     "name": "stdout",
     "text": [
      "β1 de pickup_dayofweek : -9.686\nβ1 de pickup_part4h : 10.902\nβ0 (intercept_) : 800.502\n\nTraining set : R2 = 0.002, RMSE = 624.685\nTesting  set : R2 = 0.002, RMSE = 617.928\n"
     ]
    }
   ],
   "source": [
    "get_model_metrics(LinearRegression(), X, y)"
   ]
  },
  {
   "source": [
    "### Lasso() avec différents alpha"
   ],
   "cell_type": "markdown",
   "metadata": {}
  },
  {
   "cell_type": "code",
   "execution_count": 21,
   "metadata": {},
   "outputs": [
    {
     "output_type": "stream",
     "name": "stdout",
     "text": [
      "Avec Alpha = 1\n",
      "β1 de pickup_dayofweek : -9.45\n",
      "β1 de pickup_part4h : 10.523\n",
      "β0 (intercept_) : 800.925\n",
      "\n",
      "Training set : R2 = 0.002, RMSE = 624.686\n",
      "Testing  set : R2 = 0.002, RMSE = 617.928\n",
      "\n",
      "\n",
      "Avec Alpha = 201\n",
      "β1 de pickup_dayofweek : -0.0\n",
      "β1 de pickup_part4h : 0.0\n",
      "β0 (intercept_) : 803.882\n",
      "\n",
      "Training set : R2 = 0.0, RMSE = 625.251\n",
      "Testing  set : R2 = -0.0, RMSE = 618.488\n",
      "\n",
      "\n",
      "Avec Alpha = 401\n",
      "β1 de pickup_dayofweek : -0.0\n",
      "β1 de pickup_part4h : 0.0\n",
      "β0 (intercept_) : 803.882\n",
      "\n",
      "Training set : R2 = 0.0, RMSE = 625.251\n",
      "Testing  set : R2 = -0.0, RMSE = 618.488\n",
      "\n",
      "\n",
      "Avec Alpha = 601\n",
      "β1 de pickup_dayofweek : -0.0\n",
      "β1 de pickup_part4h : 0.0\n",
      "β0 (intercept_) : 803.882\n",
      "\n",
      "Training set : R2 = 0.0, RMSE = 625.251\n",
      "Testing  set : R2 = -0.0, RMSE = 618.488\n",
      "\n",
      "\n",
      "Avec Alpha = 801\n",
      "β1 de pickup_dayofweek : -0.0\n",
      "β1 de pickup_part4h : 0.0\n",
      "β0 (intercept_) : 803.882\n",
      "\n",
      "Training set : R2 = 0.0, RMSE = 625.251\n",
      "Testing  set : R2 = -0.0, RMSE = 618.488\n",
      "\n",
      "\n",
      "Avec Alpha = 1001\n",
      "β1 de pickup_dayofweek : -0.0\n",
      "β1 de pickup_part4h : 0.0\n",
      "β0 (intercept_) : 803.882\n",
      "\n",
      "Training set : R2 = 0.0, RMSE = 625.251\n",
      "Testing  set : R2 = -0.0, RMSE = 618.488\n",
      "\n",
      "\n"
     ]
    }
   ],
   "source": [
    "for a in alphas:\n",
    "    print(f\"Avec Alpha = {a}\")\n",
    "    get_model_metrics(Lasso(alpha=a), X, y)\n",
    "    print(\"\\n\")\n"
   ]
  },
  {
   "source": [
    "### Ridge() avec différents alpha"
   ],
   "cell_type": "markdown",
   "metadata": {}
  },
  {
   "cell_type": "code",
   "execution_count": 22,
   "metadata": {},
   "outputs": [
    {
     "output_type": "stream",
     "name": "stdout",
     "text": [
      "Avec Alpha = 1\n",
      "β1 de pickup_dayofweek : -9.686\n",
      "β1 de pickup_part4h : 10.902\n",
      "β0 (intercept_) : 800.502\n",
      "\n",
      "Training set : R2 = 0.002, RMSE = 624.685\n",
      "Testing  set : R2 = 0.002, RMSE = 617.928\n",
      "\n",
      "\n",
      "Avec Alpha = 201\n",
      "β1 de pickup_dayofweek : -9.685\n",
      "β1 de pickup_part4h : 10.901\n",
      "β0 (intercept_) : 800.503\n",
      "\n",
      "Training set : R2 = 0.002, RMSE = 624.685\n",
      "Testing  set : R2 = 0.002, RMSE = 617.928\n",
      "\n",
      "\n",
      "Avec Alpha = 401\n",
      "β1 de pickup_dayofweek : -9.685\n",
      "β1 de pickup_part4h : 10.9\n",
      "β0 (intercept_) : 800.504\n",
      "\n",
      "Training set : R2 = 0.002, RMSE = 624.685\n",
      "Testing  set : R2 = 0.002, RMSE = 617.928\n",
      "\n",
      "\n",
      "Avec Alpha = 601\n",
      "β1 de pickup_dayofweek : -9.685\n",
      "β1 de pickup_part4h : 10.9\n",
      "β0 (intercept_) : 800.505\n",
      "\n",
      "Training set : R2 = 0.002, RMSE = 624.685\n",
      "Testing  set : R2 = 0.002, RMSE = 617.928\n",
      "\n",
      "\n",
      "Avec Alpha = 801\n",
      "β1 de pickup_dayofweek : -9.684\n",
      "β1 de pickup_part4h : 10.899\n",
      "β0 (intercept_) : 800.506\n",
      "\n",
      "Training set : R2 = 0.002, RMSE = 624.685\n",
      "Testing  set : R2 = 0.002, RMSE = 617.928\n",
      "\n",
      "\n",
      "Avec Alpha = 1001\n",
      "β1 de pickup_dayofweek : -9.684\n",
      "β1 de pickup_part4h : 10.898\n",
      "β0 (intercept_) : 800.507\n",
      "\n",
      "Training set : R2 = 0.002, RMSE = 624.685\n",
      "Testing  set : R2 = 0.002, RMSE = 617.928\n",
      "\n",
      "\n"
     ]
    }
   ],
   "source": [
    "for a in alphas:\n",
    "    print(f\"Avec Alpha = {a}\")\n",
    "    get_model_metrics(Ridge(alpha=a), X, y)\n",
    "    print(\"\\n\")"
   ]
  },
  {
   "source": [
    "## Conclusion\n",
    "\n",
    "- On remarque que seul la distance a vraiment des répercutions sur la distance.\n",
    "- Cela peut-être dut au fait que les distances sont calculés à vol d'oiseau.\n",
    "- De manière générale, avec un alpha supérieur à 10 le modèle devient moins fiable."
   ],
   "cell_type": "markdown",
   "metadata": {}
  }
 ]
}